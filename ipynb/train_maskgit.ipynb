{
 "cells": [
  {
   "cell_type": "code",
   "execution_count": 1,
   "id": "f797431c-ab2d-46b0-88ac-ce74628d9746",
   "metadata": {},
   "outputs": [
    {
     "name": "stderr",
     "output_type": "stream",
     "text": [
      "/root/anaconda3/envs/torch_1.x/lib/python3.10/site-packages/torchvision/io/image.py:13: UserWarning: Failed to load image Python extension: libtorch_cuda_cu.so: cannot open shared object file: No such file or directory\n",
      "  warn(f\"Failed to load image Python extension: {e}\")\n",
      "/root/anaconda3/envs/torch_1.x/lib/python3.10/site-packages/tqdm/auto.py:21: TqdmWarning: IProgress not found. Please update jupyter and ipywidgets. See https://ipywidgets.readthedocs.io/en/stable/user_install.html\n",
      "  from .autonotebook import tqdm as notebook_tqdm\n"
     ]
    }
   ],
   "source": [
    "import warnings\n",
    "import os\n",
    "import gc\n",
    "\n",
    "from easydict import EasyDict as edict\n",
    "import torch\n",
    "\n",
    "import train_maskgit\n",
    "\n",
    "warnings.filterwarnings('ignore')"
   ]
  },
  {
   "cell_type": "code",
   "execution_count": 2,
   "id": "783df6e1-2308-4510-94fc-aef3be81d774",
   "metadata": {},
   "outputs": [
    {
     "data": {
      "text/plain": [
       "'/home/projects/DataSets/'"
      ]
     },
     "execution_count": 2,
     "metadata": {},
     "output_type": "execute_result"
    }
   ],
   "source": [
    "SEP       = os.path.sep\n",
    "ROOT_PATH = SEP.join(os.getcwd().split(SEP)[:-3])\n",
    "DATA_PATH = f'{ROOT_PATH}/DataSets/'\n",
    "DATA_PATH"
   ]
  },
  {
   "cell_type": "code",
   "execution_count": 3,
   "id": "58e3b117-85af-4973-9f43-1d6e0096d120",
   "metadata": {},
   "outputs": [],
   "source": [
    "gc.collect()\n",
    "torch.cuda.empty_cache()"
   ]
  },
  {
   "cell_type": "code",
   "execution_count": 4,
   "id": "67fcf3e4-9116-414c-8b25-ba38d521f4e7",
   "metadata": {},
   "outputs": [
    {
     "name": "stdout",
     "output_type": "stream",
     "text": [
      "Launching with args:  {'run_name': 'Paella_Test', 'model': 'paella', 'dataset': 'second_stage', 'urls': {'videos': '/home/projects/DataSets/webvid/dataset/{00000..00848}.tar', 'images': '/home/projects/DataSets/Coyo/coyo-700m-webdataset/{00000..10511}.tar'}, 'total_steps': 3000000, 'batch_size': 4, 'num_workers': 10, 'log_period': 2000, 'extra_ckpt': 10000, 'accum_grad': 2, 'vq_path': 'models/vivq_8192_drop_video/model_250000.pt', 'dim': 1224, 'num_tokens': 8192, 'max_seq_len': 1536, 'depth': 22, 'dim_context': 1024, 'heads': 22, 'clip_len': 10, 'skip_frames': 5, 'n_nodes': 1, 'dist_url': 'env://', 'dist_backend': 'nccl', 'no_set_device_rank': False}\n"
     ]
    }
   ],
   "source": [
    "args = edict({})\n",
    "args.run_name = \"Paella_Test\"\n",
    "args.model = \"paella\"\n",
    "args.dataset = \"second_stage\"\n",
    "args.urls = {\n",
    "\n",
    "    \"videos\": \"/home/projects/DataSets/webvid/dataset/{00000..00848}.tar\",\n",
    "    \"images\": \"/home/projects/DataSets/Coyo/coyo-700m-webdataset/{00000..10511}.tar\"\n",
    "}\n",
    "args.total_steps = 3_000_000\n",
    "args.batch_size  = 4\n",
    "args.num_workers = 10\n",
    "args.log_period  = 2000\n",
    "args.extra_ckpt  = 10_000\n",
    "args.accum_grad  = 2\n",
    "\n",
    "args.vq_path = 'models/vivq_8192_drop_video/model_250000.pt'  \n",
    "# args.vq_path = \"models/vivq_8192_drop_video_k400/model_270000.pt\"\n",
    "\n",
    "args.dim = 1224  # 1224\n",
    "args.num_tokens = 8192\n",
    "args.max_seq_len = 6 * 16 * 16\n",
    "args.depth = 22  # 22\n",
    "args.dim_context = 1024  # for clip, 512 for T5\n",
    "args.heads = 22  # 22\n",
    "\n",
    "args.clip_len = 10\n",
    "args.skip_frames = 5\n",
    "\n",
    "args.n_nodes = 1\n",
    "args.dist_url = \"env://\"\n",
    "args.dist_backend = \"nccl\"\n",
    "args.no_set_device_rank = False\n",
    "\n",
    "print(\"Launching with args: \", args)\n"
   ]
  },
  {
   "cell_type": "code",
   "execution_count": null,
   "id": "2297056a-1cb6-44f5-b197-94b0de4608e7",
   "metadata": {
    "jp-MarkdownHeadingCollapsed": true
   },
   "outputs": [
    {
     "name": "stdout",
     "output_type": "stream",
     "text": [
      "Starting run 'Paella_Test'....\n",
      "Batch Size check: 8\n",
      "Number of Parameters: 395756424\n",
      "Using clip length of 10 and 5 skip frames.\n",
      "Loaded last checkpoint....\n",
      "Initialized scheduler\n",
      "Sanity check => Last-LR: 0.0005840012800042667 == Current-LR: 0.0005840012800042667 -> True\n"
     ]
    },
    {
     "name": "stderr",
     "output_type": "stream",
     "text": [
      "  2%|▏         | 54011/3000000 [01:17<1243:04:19,  1.52s/it, loss=6.4, curr_loss=5.34, acc=0.359, curr_acc=0.466, ppx=209, lr=0.000584, gn=1.4]     "
     ]
    },
    {
     "name": "stdout",
     "output_type": "stream",
     "text": [
      "\n",
      "\n",
      "error:image file is truncated (4 bytes not processed)\n",
      "\n",
      "\n"
     ]
    },
    {
     "name": "stderr",
     "output_type": "stream",
     "text": [
      "  2%|▏         | 56001/3000000 [16:07<921:21:44,  1.13s/it, loss=6.39, curr_loss=7.3, acc=0.36, curr_acc=0.227, ppx=1.48e+3, lr=0.0006, gn=1.59]     "
     ]
    },
    {
     "name": "stdout",
     "output_type": "stream",
     "text": [
      "Took 2.3101646900177 seconds to sample 44 captions.\n"
     ]
    },
    {
     "name": "stderr",
     "output_type": "stream",
     "text": [
      "  2%|▏         | 58001/3000000 [26:26<549:18:22,  1.49it/s, loss=6.42, curr_loss=8.81, acc=0.36, curr_acc=0.192, ppx=6.67e+3, lr=0.000616, gn=22.8]  "
     ]
    },
    {
     "name": "stdout",
     "output_type": "stream",
     "text": [
      "Took 1.5478556156158447 seconds to sample 44 captions.\n"
     ]
    },
    {
     "name": "stderr",
     "output_type": "stream",
     "text": [
      "  2%|▏         | 60000/3000000 [34:51<350:44:13,  2.33it/s, loss=6.41, curr_loss=7.3, acc=0.36, curr_acc=0.25, ppx=1.49e+3, lr=0.000632, gn=2.44]    "
     ]
    },
    {
     "name": "stdout",
     "output_type": "stream",
     "text": [
      "Took 1.5461187362670898 seconds to sample 44 captions.\n"
     ]
    },
    {
     "name": "stderr",
     "output_type": "stream",
     "text": [
      "  2%|▏         | 62001/3000000 [43:18<628:02:02,  1.30it/s, loss=6.41, curr_loss=8.95, acc=0.361, curr_acc=0.173, ppx=7.7e+3, lr=0.000648, gn=12.7]     "
     ]
    },
    {
     "name": "stdout",
     "output_type": "stream",
     "text": [
      "Took 1.546952486038208 seconds to sample 44 captions.\n"
     ]
    },
    {
     "name": "stderr",
     "output_type": "stream",
     "text": [
      "  2%|▏         | 62560/3000000 [45:31<817:51:36,  1.00s/it, loss=6.44, curr_loss=8.16, acc=0.36, curr_acc=0.306, ppx=3.51e+3, lr=0.000652, gn=14.6]  "
     ]
    }
   ],
   "source": [
    "train_maskgit.train(args)"
   ]
  },
  {
   "cell_type": "code",
   "execution_count": null,
   "id": "8d8386ea-1cd7-444c-a271-4257cc06bf38",
   "metadata": {},
   "outputs": [],
   "source": []
  },
  {
   "cell_type": "code",
   "execution_count": null,
   "id": "d45975a3-b8ef-4ce3-afa0-9e5c2bea3512",
   "metadata": {},
   "outputs": [],
   "source": []
  }
 ],
 "metadata": {
  "kernelspec": {
   "display_name": "torch_1.x",
   "language": "python",
   "name": "torch_1.x"
  },
  "language_info": {
   "codemirror_mode": {
    "name": "ipython",
    "version": 3
   },
   "file_extension": ".py",
   "mimetype": "text/x-python",
   "name": "python",
   "nbconvert_exporter": "python",
   "pygments_lexer": "ipython3",
   "version": "3.10.12"
  }
 },
 "nbformat": 4,
 "nbformat_minor": 5
}
