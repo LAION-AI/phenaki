{
 "cells": [
  {
   "cell_type": "code",
   "execution_count": 8,
   "id": "3ff8c9ed-9f54-4f62-8ca0-71a692c1ba66",
   "metadata": {},
   "outputs": [],
   "source": [
    "import random\n",
    "import math\n",
    "import gc\n",
    "import os\n",
    "\n",
    "from torch.utils.data import DataLoader\n",
    "from matplotlib import pyplot as plt\n",
    "from imutils.paths import list_files\n",
    "import torchvision.utils as vutils\n",
    "import torchvision.io\n",
    "import numpy as np\n",
    "import torch\n",
    "import cv2\n",
    "\n",
    "from utils import calculate_psnr, calculate_ssim\n",
    "from utils import transforms, VideoDataset\n",
    "from vivq import VIVQ"
   ]
  },
  {
   "cell_type": "code",
   "execution_count": 9,
   "id": "e7058d07-6e78-4cf1-b1ef-d7ea7d8389f1",
   "metadata": {},
   "outputs": [],
   "source": [
    "gc.collect()\n",
    "torch.cuda.empty_cache()"
   ]
  },
  {
   "cell_type": "code",
   "execution_count": 10,
   "id": "77a0fe4f-2b06-40cd-88a7-eeafe6b1fb1c",
   "metadata": {},
   "outputs": [
    {
     "data": {
      "text/plain": [
       "('/home/projects', '/home/projects/DataSets')"
      ]
     },
     "execution_count": 10,
     "metadata": {},
     "output_type": "execute_result"
    }
   ],
   "source": [
    "SEP        = os.path.sep\n",
    "ROOT_PATH  = SEP.join(os.getcwd().split(SEP)[:-3])\n",
    "\n",
    "DATA_PATH  = f'{ROOT_PATH}/DataSets'\n",
    "ROOT_PATH, DATA_PATH"
   ]
  },
  {
   "cell_type": "code",
   "execution_count": 11,
   "id": "49d06b20-68ec-4c59-847f-d78acf42a776",
   "metadata": {},
   "outputs": [],
   "source": [
    "def load_video(path, clip_len = 10, skip_frames = 3):\n",
    "\n",
    "    video_transform = torchvision.transforms.Compose([\n",
    "                        torchvision.transforms.Resize(128),\n",
    "                        torchvision.transforms.CenterCrop(128)\n",
    "                    ])\n",
    "\n",
    "    video, _, _ = torchvision.io.read_video(path)\n",
    "    video       = video.permute(0, 3, 1, 2) / 255.\n",
    "    max_seek    = video.shape[0] - (clip_len * skip_frames)\n",
    "\n",
    "    start       = math.floor(random.uniform(0., max_seek))\n",
    "    # video       = video[:30]\n",
    "\n",
    "    if video_transform:\n",
    "        video = video_transform(video)\n",
    "\n",
    "    image, video = video[0], video[1: ]\n",
    "    return image.unsqueeze(0), video.unsqueeze(0)"
   ]
  },
  {
   "cell_type": "code",
   "execution_count": 12,
   "id": "712b9658-4a2e-4194-b4c0-a9a093eba46a",
   "metadata": {},
   "outputs": [],
   "source": [
    "sample_vid = '/home/projects/DataSets/kinetic400/tossing_coin/TMzJ-y3Ne5k.mp4'\n",
    "# sample_vid = '/home/projects/DataSets/Moments_in_Time_Raw/validation/drenching/yt-jU0lcu7Bjrk_871.mp4'\n",
    "# sample_vid = '/home/projects/DataSets/webvid/validation/00834012.mp4'"
   ]
  },
  {
   "cell_type": "code",
   "execution_count": 13,
   "id": "363d973e-0649-4a5c-9e53-b864f3b9470f",
   "metadata": {},
   "outputs": [],
   "source": [
    "name        = 'vivq_2'\n",
    "device      = 'cuda'\n",
    "num_frames  = 50\n",
    "skip_frames = 5\n",
    "hidden_C    = 512"
   ]
  },
  {
   "cell_type": "code",
   "execution_count": 14,
   "id": "67975d9a-2738-4029-b4bb-f703554ccda0",
   "metadata": {},
   "outputs": [
    {
     "name": "stdout",
     "output_type": "stream",
     "text": [
      "[270000]\n",
      "모델 로딩 완\n",
      "PSNR : 23.552, SSIM : 0.427\n"
     ]
    },
    {
     "data": {
      "image/png": "[encoded data removed]",
      "text/plain": [
       "<Figure size 640x480 with 1 Axes>"
      ]
     },
     "metadata": {},
     "output_type": "display_data"
    },
    {
     "name": "stdout",
     "output_type": "stream",
     "text": [
      "\n",
      "\n",
      "\n"
     ]
    }
   ],
   "source": [
    "for epoch in [270_000]:\n",
    "\n",
    "    print(f'[{epoch}]')\n",
    "    MODEL_PATH = f'{ROOT_PATH}/video_generation/phenaki/phenaki/models/vivq_8192_drop_video_k400/model_{epoch}.pt'\n",
    "    model      = VIVQ(c_hidden = hidden_C, codebook_size = 8192).to(device)\n",
    "    state_dict = torch.load(MODEL_PATH)\n",
    "    \n",
    "    model.load_state_dict(state_dict)\n",
    "    model.eval().requires_grad_(False)\n",
    "    \n",
    "    print('모델 로딩 완')\n",
    "    \n",
    "    image, video = load_video(sample_vid, clip_len = num_frames, skip_frames = skip_frames)\n",
    "    image, video = image.to(device), video.to(device)\n",
    "\n",
    "    recon, _    = model(image, video)\n",
    "    folder_name = sample_vid.split(SEP)[-2]\n",
    "    file_name   = os.path.splitext(sample_vid.split(SEP)[-1])[0]\n",
    "    \n",
    "    os.makedirs(f'results/valid/{folder_name}', exist_ok = True)\n",
    "    \n",
    "    orig  = torch.cat([image.unsqueeze(1), video], dim = 1)\n",
    "    orig  = orig[0]\n",
    "    recon = recon[0]\n",
    "\n",
    "    save_path = f'results/valid/{folder_name}/{file_name}_{str(epoch).zfill(6)}_{num_frames}'\n",
    "    comp = vutils.make_grid(torch.cat([orig, recon]), nrow = len(orig)).detach().cpu()\n",
    "    vutils.save_image(comp, f'{save_path}.jpg')\n",
    "    \n",
    "    origs_  = orig.detach().cpu()\n",
    "    recons_ = recon.detach().cpu()\n",
    "\n",
    "    fourcc = cv2.VideoWriter_fourcc('m', 'p', '4', 'v')\n",
    "    output = cv2.VideoWriter(f'{save_path}.mp4', fourcc, 30.0, (128, 128))\n",
    "    PSNR_, SSIM_ = [], []\n",
    "    for ori, rec in zip(origs_, recons_):\n",
    "\n",
    "\n",
    "        rec_   = np.transpose(rec.detach().cpu().numpy(), (1, 2, 0)) * 255\n",
    "        rec_   = cv2.cvtColor(rec_, cv2.COLOR_BGR2RGB)\n",
    "        output.write(rec_.astype(np.uint8))\n",
    "\n",
    "        \n",
    "        ori = np.transpose(ori.detach().cpu().numpy(), (1, 2, 0))\n",
    "        rec = np.transpose(rec.detach().cpu().numpy(), (1, 2, 0))\n",
    "    \n",
    "        PSNR_.append(calculate_psnr(ori,rec))\n",
    "        SSIM_.append(calculate_ssim(ori, rec))\n",
    "\n",
    "    output.release()\n",
    "    \n",
    "    print(f'PSNR : {np.mean(PSNR_):.3f}, SSIM : {np.mean(SSIM_):.3f}')\n",
    "    plt.imshow(comp.permute(1, 2, 0))\n",
    "    plt.axis(False)\n",
    "    plt.show()\n",
    "    print('\\n\\n')"
   ]
  },
  {
   "cell_type": "code",
   "execution_count": null,
   "id": "e73770f6-d3ac-4450-bab0-aa8761d1901f",
   "metadata": {},
   "outputs": [],
   "source": []
  }
 ],
 "metadata": {
  "kernelspec": {
   "display_name": "torch_1.x",
   "language": "python",
   "name": "torch_1.x"
  },
  "language_info": {
   "codemirror_mode": {
    "name": "ipython",
    "version": 3
   },
   "file_extension": ".py",
   "mimetype": "text/x-python",
   "name": "python",
   "nbconvert_exporter": "python",
   "pygments_lexer": "ipython3",
   "version": "3.10.12"
  }
 },
 "nbformat": 4,
 "nbformat_minor": 5
}
